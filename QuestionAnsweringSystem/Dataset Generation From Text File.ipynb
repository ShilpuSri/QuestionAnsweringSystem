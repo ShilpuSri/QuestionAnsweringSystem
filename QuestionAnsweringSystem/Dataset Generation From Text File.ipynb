{
 "cells": [
  {
   "cell_type": "code",
   "execution_count": 1,
   "metadata": {},
   "outputs": [
    {
     "name": "stderr",
     "output_type": "stream",
     "text": [
      "[nltk_data] Downloading package punkt to\n",
      "[nltk_data]     C:\\Users\\Shilpu\\AppData\\Roaming\\nltk_data...\n",
      "[nltk_data]   Package punkt is already up-to-date!\n",
      "C:\\Users\\Shilpu\\Anaconda3\\lib\\site-packages\\wikipedia\\wikipedia.py:389: UserWarning: No parser was explicitly specified, so I'm using the best available HTML parser for this system (\"lxml\"). This usually isn't a problem, but if you run this code on another system, or in a different virtual environment, it may use a different parser and behave differently.\n",
      "\n",
      "The code that caused this warning is on line 389 of the file C:\\Users\\Shilpu\\Anaconda3\\lib\\site-packages\\wikipedia\\wikipedia.py. To get rid of this warning, pass the additional argument 'features=\"lxml\"' to the BeautifulSoup constructor.\n",
      "\n",
      "  lis = BeautifulSoup(html).find_all('li')\n"
     ]
    },
    {
     "name": "stdout",
     "output_type": "stream",
     "text": [
      "The comma separated values (CSV) file has been successfully created with 84 disambiguation error(s) and 14 page error(s)!\n"
     ]
    }
   ],
   "source": [
    "import csv\n",
    "from datetime import datetime\n",
    "import wikipedia\n",
    "import nltk\n",
    "nltk.download('punkt')\n",
    "from nltk.tokenize import sent_tokenize\n",
    "\n",
    "def prepareEachInstanceData(wikipediaPagesOn):\n",
    "    dateColumn=str(datetime.today().strftime('%d.%m.%Y'))\n",
    "    wikipediaPage = wikipedia.page(wikipediaPagesOn)\n",
    "    titleColumn=wikipediaPage.title\n",
    "    linkColumn=wikipediaPage.url\n",
    "    wikipediaPageContents=sent_tokenize(wikipedia.summary(wikipediaPagesOn))\n",
    "    abstractColumn=str(wikipediaPageContents[0])\n",
    "    paragraphsColumn=wikipediaPageContents\n",
    "    instance = [[dateColumn, titleColumn, linkColumn, abstractColumn, paragraphsColumn]]\n",
    "    return instance\n",
    "\n",
    "#Create Wikipedia pages based on titles mentioned in the \"WikipediaPagesOn.txt\" file\n",
    "#Contains names of politicians, actor-turned polticians, sports politicians\n",
    "#(Add any other topic to the text file to create a corpus based on the same.)\n",
    "wikipediaPagesFileLocation = r\"C:\\Users\\Shilpu\\NLPProject\\QuestionAnsweringSystem\\WikipediaPagesOn.txt\"\n",
    "wikipediaPagesFile = open(wikipediaPagesFileLocation, \"r\")\n",
    "wikipediaPagesOn = wikipediaPagesFile.read().splitlines()\n",
    "csvFilename = r\"C:\\Users\\Shilpu\\NLPProject\\QuestionAnsweringSystem\\trainingDataset.csv\"\n",
    "features = ['date', 'title', 'link', 'abstract', 'paragraphs']\n",
    "disambiguationErrorCount=0\n",
    "pageErrorCount=0\n",
    "\n",
    "with open(csvFilename, 'w', newline='\\n', encoding='utf-8') as csvFile: \n",
    "    csvFileWriter = csv.writer(csvFile)\n",
    "    csvFileWriter.writerow(features)\n",
    "    for eachWikipediaPage in wikipediaPagesOn:\n",
    "        try:\n",
    "            csvFileWriter.writerows(prepareEachInstanceData(eachWikipediaPage))\n",
    "        except wikipedia.exceptions.DisambiguationError as disambiguationError:\n",
    "            disambiguationErrorCount+=1\n",
    "            pass\n",
    "        except wikipedia.exceptions.PageError as pageError:\n",
    "            pageErrorCount+=1\n",
    "            pass\n",
    "csvFile.close()\n",
    "wikipediaPagesFile.close()\n",
    "print('The comma separated values (CSV) file has been successfully created with',disambiguationErrorCount,'disambiguation error(s) and',pageErrorCount,'page error(s)!')"
   ]
  },
  {
   "cell_type": "code",
   "execution_count": null,
   "metadata": {},
   "outputs": [],
   "source": []
  }
 ],
 "metadata": {
  "kernelspec": {
   "display_name": "Python 3",
   "language": "python",
   "name": "python3"
  },
  "language_info": {
   "codemirror_mode": {
    "name": "ipython",
    "version": 3
   },
   "file_extension": ".py",
   "mimetype": "text/x-python",
   "name": "python",
   "nbconvert_exporter": "python",
   "pygments_lexer": "ipython3",
   "version": "3.7.4"
  }
 },
 "nbformat": 4,
 "nbformat_minor": 4
}
