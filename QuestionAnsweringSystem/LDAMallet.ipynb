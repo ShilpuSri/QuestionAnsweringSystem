{
 "cells": [
  {
   "cell_type": "code",
   "execution_count": 1,
   "metadata": {},
   "outputs": [
    {
     "name": "stderr",
     "output_type": "stream",
     "text": [
      "[nltk_data] Downloading package stopwords to\n",
      "[nltk_data]     C:\\Users\\Shilpu\\AppData\\Roaming\\nltk_data...\n",
      "[nltk_data]   Package stopwords is already up-to-date!\n"
     ]
    },
    {
     "data": {
      "text/plain": [
       "True"
      ]
     },
     "execution_count": 1,
     "metadata": {},
     "output_type": "execute_result"
    }
   ],
   "source": [
    "import nltk; nltk.download('stopwords')"
   ]
  },
  {
   "cell_type": "code",
   "execution_count": 2,
   "metadata": {},
   "outputs": [],
   "source": [
    "import re\n",
    "import numpy as np\n",
    "import pandas as pd\n",
    "from pprint import pprint\n",
    "\n",
    "# Gensim\n",
    "import gensim\n",
    "import gensim.corpora as corpora\n",
    "from gensim.utils import simple_preprocess\n",
    "from gensim.models import CoherenceModel\n",
    "\n",
    "# spacy for lemmatization\n",
    "import spacy\n",
    "\n",
    "# Plotting tools\n",
    "import pyLDAvis\n",
    "import pyLDAvis.gensim  # don't skip this\n",
    "import matplotlib.pyplot as plt\n",
    "%matplotlib inline\n",
    "\n",
    "# Enable logging for gensim - optional\n",
    "import logging\n",
    "logging.basicConfig(format='%(asctime)s : %(levelname)s : %(message)s', level=logging.ERROR)\n",
    "\n",
    "import warnings\n",
    "warnings.filterwarnings(\"ignore\",category=DeprecationWarning)"
   ]
  },
  {
   "cell_type": "code",
   "execution_count": 3,
   "metadata": {},
   "outputs": [],
   "source": [
    "from nltk.corpus import stopwords\n",
    "stop_words = stopwords.words('english')\n",
    "stop_words.extend(['from', 'subject', 're', 'edu', 'use'])"
   ]
  },
  {
   "cell_type": "code",
   "execution_count": 4,
   "metadata": {},
   "outputs": [
    {
     "name": "stdout",
     "output_type": "stream",
     "text": [
      "['Barack Hussein Obama II ( (listen) born August 4, 1961) is an American '\n",
      " 'politician and attorney who served as the 44th president of the United '\n",
      " 'States from 2009 to 2017.']\n"
     ]
    }
   ],
   "source": [
    "df = pd.read_csv('trainingDataset.csv', error_bad_lines=False)\n",
    "data = df.abstract.values.tolist()\n",
    "# Remove Emails\n",
    "data = [re.sub(r'\\S*@\\S*\\s?', '', sent) for sent in data]\n",
    "# Remove new line characters\n",
    "data = [re.sub(r'\\s+', ' ', sent) for sent in data]\n",
    "# Remove distracting single quotes\n",
    "data = [re.sub(r\"\\'\", \"\", sent) for sent in data]\n",
    "data = [re.sub(r\"[^\\sa-zA-Z0-9-.,)(!]\",\"\",sent) for sent in data]\n",
    "pprint(data[:1])"
   ]
  },
  {
   "cell_type": "code",
   "execution_count": 5,
   "metadata": {},
   "outputs": [
    {
     "name": "stdout",
     "output_type": "stream",
     "text": [
      "[['barack', 'hussein', 'obama', 'ii', 'listen', 'born', 'august', 'is', 'an', 'american', 'politician', 'and', 'attorney', 'who', 'served', 'as', 'the', 'th', 'president', 'of', 'the', 'united', 'states', 'from', 'to']]\n"
     ]
    }
   ],
   "source": [
    "def sent_to_words(sentences):\n",
    "    for sentence in sentences:\n",
    "        yield(gensim.utils.simple_preprocess(str(sentence), deacc=True))  # deacc=True removes punctuations\n",
    "\n",
    "data_words = list(sent_to_words(data))\n",
    "\n",
    "print(data_words[:1])"
   ]
  },
  {
   "cell_type": "code",
   "execution_count": 6,
   "metadata": {},
   "outputs": [
    {
     "name": "stdout",
     "output_type": "stream",
     "text": [
      "['barack', 'hussein', 'obama', 'ii', 'listen', 'born', 'august', 'is', 'an', 'american', 'politician', 'and', 'attorney', 'who', 'served', 'as', 'the', 'th', 'president', 'of', 'the', 'united_states', 'from', 'to']\n"
     ]
    }
   ],
   "source": [
    "# Build the bigram and trigram models\n",
    "bigram = gensim.models.Phrases(data_words, min_count=5, threshold=100) # higher threshold fewer phrases.\n",
    "trigram = gensim.models.Phrases(bigram[data_words], threshold=100)  \n",
    "\n",
    "# Faster way to get a sentence clubbed as a trigram/bigram\n",
    "bigram_mod = gensim.models.phrases.Phraser(bigram)\n",
    "trigram_mod = gensim.models.phrases.Phraser(trigram)\n",
    "\n",
    "# A trigram example\n",
    "print(trigram_mod[bigram_mod[data_words[0]]])"
   ]
  },
  {
   "cell_type": "code",
   "execution_count": 7,
   "metadata": {},
   "outputs": [],
   "source": [
    "# Functions for removing stopwords, creating bigrams, creating trigrams and performing lemmatization\n",
    "def remove_stopwords(texts):\n",
    "    return [[word for word in simple_preprocess(str(doc)) if word not in stop_words] for doc in texts]\n",
    "\n",
    "def make_bigrams(texts):\n",
    "    return [bigram_mod[doc] for doc in texts]\n",
    "\n",
    "def make_trigrams(texts):\n",
    "    return [trigram_mod[bigram_mod[doc]] for doc in texts]\n",
    "\n",
    "def lemmatization(texts, allowed_postags=['NOUN', 'ADJ', 'VERB', 'ADV']):\n",
    "    \"\"\"https://spacy.io/api/annotation\"\"\"\n",
    "    texts_out = []\n",
    "    for sent in texts:\n",
    "        doc = nlp(\" \".join(sent)) \n",
    "        texts_out.append([token.lemma_ for token in doc if token.pos_ in allowed_postags])\n",
    "    return texts_out"
   ]
  },
  {
   "cell_type": "code",
   "execution_count": 8,
   "metadata": {},
   "outputs": [
    {
     "name": "stdout",
     "output_type": "stream",
     "text": [
      "[['listen', 'bear', 'american', 'politician', 'attorney', 'serve']]\n"
     ]
    }
   ],
   "source": [
    "# Remove Stop Words\n",
    "data_words_nostops = remove_stopwords(data_words)\n",
    "\n",
    "# Form Bigrams\n",
    "data_words_bigrams = make_bigrams(data_words_nostops)\n",
    "\n",
    "# Initialize spacy 'en_core_web_sm' model, keeping only tagger component (for efficiency)\n",
    "# python3 -m spacy download en\n",
    "nlp = spacy.load('en_core_web_sm', disable=['parser', 'ner'])\n",
    "\n",
    "# Do lemmatization keep only noun, adj, vb, adv\n",
    "data_lemmatized = lemmatization(data_words_bigrams, allowed_postags=['NOUN', 'ADJ', 'VERB', 'ADV'])\n",
    "\n",
    "print(data_lemmatized[:1])"
   ]
  },
  {
   "cell_type": "code",
   "execution_count": 9,
   "metadata": {},
   "outputs": [
    {
     "name": "stdout",
     "output_type": "stream",
     "text": [
      "Dictionary(1537 unique tokens: ['american', 'attorney', 'bear', 'listen', 'politician']...)\n",
      "[[(0, 1), (1, 1), (2, 1), (3, 1), (4, 1), (5, 1)]]\n"
     ]
    }
   ],
   "source": [
    "# Create Dictionary\n",
    "id2word = corpora.Dictionary(data_lemmatized)\n",
    "print(id2word)\n",
    "\n",
    "# Create Corpus based on lemmatized data\n",
    "texts = data_lemmatized\n",
    "\n",
    "# Term Document Frequency\n",
    "corpus = [id2word.doc2bow(text) for text in texts]\n",
    "\n",
    "# View a part of the corpus\n",
    "print(corpus[:1])"
   ]
  },
  {
   "cell_type": "code",
   "execution_count": 10,
   "metadata": {},
   "outputs": [
    {
     "data": {
      "text/plain": [
       "[[('american', 1),\n",
       "  ('attorney', 1),\n",
       "  ('bear', 1),\n",
       "  ('listen', 1),\n",
       "  ('politician', 1),\n",
       "  ('serve', 1)]]"
      ]
     },
     "execution_count": 10,
     "metadata": {},
     "output_type": "execute_result"
    }
   ],
   "source": [
    "[[(id2word[id], freq) for id, freq in cp] for cp in corpus[:1]]"
   ]
  },
  {
   "cell_type": "code",
   "execution_count": 20,
   "metadata": {},
   "outputs": [],
   "source": [
    "# Build LDA model\n",
    "lda_model = gensim.models.ldamodel.LdaModel(corpus=corpus,\n",
    "                                           id2word=id2word,\n",
    "                                           num_topics=120, \n",
    "                                           random_state=100,\n",
    "                                           update_every=1,\n",
    "                                           chunksize=10,\n",
    "                                           passes=10,\n",
    "                                           alpha='auto',\n",
    "                                           per_word_topics=True)"
   ]
  },
  {
   "cell_type": "code",
   "execution_count": 21,
   "metadata": {},
   "outputs": [
    {
     "name": "stdout",
     "output_type": "stream",
     "text": [
      "[(6,\n",
      "  '0.001*\"grandmaster\" + 0.001*\"consider\" + 0.001*\"kreln\" + 0.001*\"champion\" + '\n",
      "  '0.001*\"chess\" + 0.001*\"individual\" + 0.001*\"artistic\" + 0.001*\"multiple\" + '\n",
      "  '0.001*\"honored\" + 0.001*\"great\"'),\n",
      " (112,\n",
      "  '0.001*\"grandmaster\" + 0.001*\"consider\" + 0.001*\"kreln\" + 0.001*\"champion\" + '\n",
      "  '0.001*\"chess\" + 0.001*\"individual\" + 0.001*\"artistic\" + 0.001*\"multiple\" + '\n",
      "  '0.001*\"honored\" + 0.001*\"great\"'),\n",
      " (64,\n",
      "  '0.001*\"grandmaster\" + 0.001*\"consider\" + 0.001*\"kreln\" + 0.001*\"champion\" + '\n",
      "  '0.001*\"chess\" + 0.001*\"individual\" + 0.001*\"artistic\" + 0.001*\"multiple\" + '\n",
      "  '0.001*\"honored\" + 0.001*\"great\"'),\n",
      " (16,\n",
      "  '0.001*\"grandmaster\" + 0.001*\"consider\" + 0.001*\"kreln\" + 0.001*\"champion\" + '\n",
      "  '0.001*\"chess\" + 0.001*\"individual\" + 0.001*\"artistic\" + 0.001*\"multiple\" + '\n",
      "  '0.001*\"honored\" + 0.001*\"great\"'),\n",
      " (89,\n",
      "  '0.001*\"grandmaster\" + 0.001*\"consider\" + 0.001*\"kreln\" + 0.001*\"champion\" + '\n",
      "  '0.001*\"chess\" + 0.001*\"individual\" + 0.001*\"artistic\" + 0.001*\"multiple\" + '\n",
      "  '0.001*\"honored\" + 0.001*\"great\"'),\n",
      " (114,\n",
      "  '0.001*\"grandmaster\" + 0.001*\"consider\" + 0.001*\"kreln\" + 0.001*\"champion\" + '\n",
      "  '0.001*\"chess\" + 0.001*\"individual\" + 0.001*\"artistic\" + 0.001*\"multiple\" + '\n",
      "  '0.001*\"honored\" + 0.001*\"great\"'),\n",
      " (10,\n",
      "  '0.001*\"grandmaster\" + 0.001*\"consider\" + 0.001*\"kreln\" + 0.001*\"champion\" + '\n",
      "  '0.001*\"chess\" + 0.001*\"individual\" + 0.001*\"artistic\" + 0.001*\"multiple\" + '\n",
      "  '0.001*\"honored\" + 0.001*\"great\"'),\n",
      " (91,\n",
      "  '0.001*\"grandmaster\" + 0.001*\"consider\" + 0.001*\"kreln\" + 0.001*\"champion\" + '\n",
      "  '0.001*\"chess\" + 0.001*\"individual\" + 0.001*\"artistic\" + 0.001*\"multiple\" + '\n",
      "  '0.001*\"honored\" + 0.001*\"great\"'),\n",
      " (95,\n",
      "  '0.001*\"grandmaster\" + 0.001*\"consider\" + 0.001*\"kreln\" + 0.001*\"champion\" + '\n",
      "  '0.001*\"chess\" + 0.001*\"individual\" + 0.001*\"artistic\" + 0.001*\"multiple\" + '\n",
      "  '0.001*\"honored\" + 0.001*\"great\"'),\n",
      " (88,\n",
      "  '0.001*\"grandmaster\" + 0.001*\"consider\" + 0.001*\"kreln\" + 0.001*\"champion\" + '\n",
      "  '0.001*\"chess\" + 0.001*\"individual\" + 0.001*\"artistic\" + 0.001*\"multiple\" + '\n",
      "  '0.001*\"honored\" + 0.001*\"great\"'),\n",
      " (111,\n",
      "  '0.001*\"grandmaster\" + 0.001*\"consider\" + 0.001*\"kreln\" + 0.001*\"champion\" + '\n",
      "  '0.001*\"chess\" + 0.001*\"individual\" + 0.001*\"artistic\" + 0.001*\"multiple\" + '\n",
      "  '0.001*\"honored\" + 0.001*\"great\"'),\n",
      " (56,\n",
      "  '0.001*\"grandmaster\" + 0.001*\"consider\" + 0.001*\"kreln\" + 0.001*\"champion\" + '\n",
      "  '0.001*\"chess\" + 0.001*\"individual\" + 0.001*\"artistic\" + 0.001*\"multiple\" + '\n",
      "  '0.001*\"honored\" + 0.001*\"great\"'),\n",
      " (2,\n",
      "  '0.001*\"grandmaster\" + 0.001*\"consider\" + 0.001*\"kreln\" + 0.001*\"champion\" + '\n",
      "  '0.001*\"chess\" + 0.001*\"individual\" + 0.001*\"artistic\" + 0.001*\"multiple\" + '\n",
      "  '0.001*\"honored\" + 0.001*\"great\"'),\n",
      " (34,\n",
      "  '0.001*\"grandmaster\" + 0.001*\"consider\" + 0.001*\"kreln\" + 0.001*\"champion\" + '\n",
      "  '0.001*\"chess\" + 0.001*\"individual\" + 0.001*\"artistic\" + 0.001*\"multiple\" + '\n",
      "  '0.001*\"honored\" + 0.001*\"great\"'),\n",
      " (11,\n",
      "  '0.001*\"grandmaster\" + 0.001*\"consider\" + 0.001*\"kreln\" + 0.001*\"champion\" + '\n",
      "  '0.001*\"chess\" + 0.001*\"individual\" + 0.001*\"artistic\" + 0.001*\"multiple\" + '\n",
      "  '0.001*\"honored\" + 0.001*\"great\"'),\n",
      " (68,\n",
      "  '0.001*\"grandmaster\" + 0.001*\"consider\" + 0.001*\"kreln\" + 0.001*\"champion\" + '\n",
      "  '0.001*\"chess\" + 0.001*\"individual\" + 0.001*\"artistic\" + 0.001*\"multiple\" + '\n",
      "  '0.001*\"honored\" + 0.001*\"great\"'),\n",
      " (49,\n",
      "  '0.001*\"grandmaster\" + 0.001*\"consider\" + 0.001*\"kreln\" + 0.001*\"champion\" + '\n",
      "  '0.001*\"chess\" + 0.001*\"individual\" + 0.001*\"artistic\" + 0.001*\"multiple\" + '\n",
      "  '0.001*\"honored\" + 0.001*\"great\"'),\n",
      " (99,\n",
      "  '0.001*\"grandmaster\" + 0.001*\"consider\" + 0.001*\"kreln\" + 0.001*\"champion\" + '\n",
      "  '0.001*\"chess\" + 0.001*\"individual\" + 0.001*\"artistic\" + 0.001*\"multiple\" + '\n",
      "  '0.001*\"honored\" + 0.001*\"great\"'),\n",
      " (38,\n",
      "  '0.001*\"grandmaster\" + 0.001*\"consider\" + 0.001*\"kreln\" + 0.001*\"champion\" + '\n",
      "  '0.001*\"chess\" + 0.001*\"individual\" + 0.001*\"artistic\" + 0.001*\"multiple\" + '\n",
      "  '0.001*\"honored\" + 0.001*\"great\"'),\n",
      " (101,\n",
      "  '0.001*\"grandmaster\" + 0.001*\"consider\" + 0.001*\"kreln\" + 0.001*\"champion\" + '\n",
      "  '0.001*\"chess\" + 0.001*\"individual\" + 0.001*\"artistic\" + 0.001*\"multiple\" + '\n",
      "  '0.001*\"honored\" + 0.001*\"great\"')]\n"
     ]
    }
   ],
   "source": [
    "# Print the Keyword in the 10 topics\n",
    "pprint(lda_model.print_topics())\n",
    "doc_lda = lda_model[corpus]"
   ]
  },
  {
   "cell_type": "code",
   "execution_count": 22,
   "metadata": {},
   "outputs": [
    {
     "name": "stdout",
     "output_type": "stream",
     "text": [
      "\n",
      "Perplexity:  -238.2729949951172\n",
      "\n",
      "Coherence Score:  0.7320373140121686\n"
     ]
    }
   ],
   "source": [
    "# Compute Perplexity\n",
    "print('\\nPerplexity: ', lda_model.log_perplexity(corpus))  # a measure of how good the model is. lower the better.\n",
    "\n",
    "# Compute Coherence Score\n",
    "coherence_model_lda = CoherenceModel(model=lda_model, texts=data_lemmatized, dictionary=id2word, coherence='c_v')\n",
    "coherence_lda = coherence_model_lda.get_coherence()\n",
    "\n",
    "print('\\nCoherence Score: ', coherence_lda)"
   ]
  },
  {
   "cell_type": "code",
   "execution_count": 14,
   "metadata": {},
   "outputs": [],
   "source": [
    "#Load the LDA Mallet library from the mallet path\n",
    "import os\n",
    "from gensim.models.wrappers import LdaMallet\n",
    "os.environ['MALLET_HOME'] = 'C:\\\\Users\\\\Shilpu\\\\NLPProject\\\\QuestionAnsweringSystem\\\\mallet-2.0.8\\\\mallet-2.0.8'\n",
    "mallet_path = 'C:\\\\Users\\\\Shilpu\\\\NLPProject\\\\QuestionAnsweringSystem\\\\mallet-2.0.8\\\\mallet-2.0.8\\\\bin\\\\mallet' # update this path\n",
    "ldamallet = gensim.models.wrappers.LdaMallet(mallet_path, corpus=corpus, num_topics=20, id2word=id2word)"
   ]
  },
  {
   "cell_type": "code",
   "execution_count": 15,
   "metadata": {},
   "outputs": [
    {
     "name": "stdout",
     "output_type": "stream",
     "text": [
      "[(15,\n",
      "  [('athlete', 0.12912912912912913),\n",
      "   ('title', 0.11411411411411411),\n",
      "   ('irish', 0.057057057057057055),\n",
      "   ('peerage', 0.05405405405405406),\n",
      "   ('iranian', 0.03903903903903904),\n",
      "   ('medal', 0.03303303303303303),\n",
      "   ('world', 0.03003003003003003),\n",
      "   ('win', 0.02702702702702703),\n",
      "   ('olympic', 0.024024024024024024),\n",
      "   ('gold', 0.018018018018018018)]),\n",
      " (2,\n",
      "  [('member', 0.4166666666666667),\n",
      "   ('parliament', 0.10483870967741936),\n",
      "   ('italian', 0.026881720430107527),\n",
      "   ('deputy', 0.026881720430107527),\n",
      "   ('tamil', 0.021505376344086023),\n",
      "   ('constituency', 0.021505376344086023),\n",
      "   ('model', 0.01881720430107527),\n",
      "   ('ride', 0.016129032258064516),\n",
      "   ('mayor', 0.013440860215053764),\n",
      "   ('hold', 0.010752688172043012)]),\n",
      " (0,\n",
      "  [('canadian', 0.2979942693409742),\n",
      "   ('lawyer', 0.13753581661891118),\n",
      "   ('elect', 0.06017191977077364),\n",
      "   ('election', 0.054441260744985676),\n",
      "   ('diplomat', 0.04011461318051576),\n",
      "   ('businessman', 0.03151862464183381),\n",
      "   ('official', 0.025787965616045846),\n",
      "   ('long', 0.022922636103151862),\n",
      "   ('found', 0.02005730659025788),\n",
      "   ('commentator', 0.017191977077363897)]),\n",
      " (17,\n",
      "  [('bear', 0.4562334217506631),\n",
      "   ('time', 0.05305039787798409),\n",
      "   ('current', 0.042440318302387266),\n",
      "   ('politician', 0.042440318302387266),\n",
      "   ('ukrainian', 0.029177718832891247),\n",
      "   ('primarily', 0.015915119363395226),\n",
      "   ('office', 0.015915119363395226),\n",
      "   ('district', 0.013262599469496022),\n",
      "   ('show', 0.010610079575596816),\n",
      "   ('serial', 0.010610079575596816)]),\n",
      " (8,\n",
      "  [('conservative', 0.22857142857142856),\n",
      "   ('british', 0.21298701298701297),\n",
      "   ('party', 0.07532467532467532),\n",
      "   ('sit', 0.06233766233766234),\n",
      "   ('common', 0.046753246753246755),\n",
      "   ('house', 0.04415584415584416),\n",
      "   ('refer', 0.02077922077922078),\n",
      "   ('style', 0.02077922077922078),\n",
      "   ('initial', 0.015584415584415584),\n",
      "   ('senior', 0.015584415584415584)]),\n",
      " (5,\n",
      "  [('actor', 0.40350877192982454),\n",
      "   ('indian', 0.08771929824561403),\n",
      "   ('singer', 0.07268170426065163),\n",
      "   ('comedian', 0.042606516290726815),\n",
      "   ('director', 0.03508771929824561),\n",
      "   ('music', 0.012531328320802004),\n",
      "   ('federal', 0.012531328320802004),\n",
      "   ('field', 0.012531328320802004),\n",
      "   ('peer', 0.012531328320802004),\n",
      "   ('hockey', 0.012531328320802004)]),\n",
      " (3,\n",
      "  [('writer', 0.11730205278592376),\n",
      "   ('russian', 0.08797653958944282),\n",
      "   ('politician', 0.08504398826979472),\n",
      "   ('activist', 0.06744868035190615),\n",
      "   ('lead', 0.03812316715542522),\n",
      "   ('compete', 0.03225806451612903),\n",
      "   ('political', 0.03225806451612903),\n",
      "   ('champion', 0.026392961876832845),\n",
      "   ('english', 0.026392961876832845),\n",
      "   ('chess', 0.026392961876832845)]),\n",
      " (6,\n",
      "  [('politician', 0.4602272727272727),\n",
      "   ('journalist', 0.05965909090909091),\n",
      "   ('businessman', 0.05397727272727273),\n",
      "   ('movie', 0.028409090909090908),\n",
      "   ('local', 0.02556818181818182),\n",
      "   ('early', 0.022727272727272728),\n",
      "   ('administrator', 0.022727272727272728),\n",
      "   ('secretary', 0.017045454545454544),\n",
      "   ('publisher', 0.014204545454545454),\n",
      "   ('greek', 0.014204545454545454)]),\n",
      " (19,\n",
      "  [('australian', 0.21095890410958903),\n",
      "   ('bear', 0.16712328767123288),\n",
      "   ('represent', 0.136986301369863),\n",
      "   ('footballer', 0.03561643835616438),\n",
      "   ('national', 0.021917808219178082),\n",
      "   ('team', 0.021917808219178082),\n",
      "   ('veteran', 0.019178082191780823),\n",
      "   ('president', 0.019178082191780823),\n",
      "   ('scientist', 0.01643835616438356),\n",
      "   ('professionally', 0.01643835616438356)]),\n",
      " (12,\n",
      "  [('serve', 0.4142857142857143),\n",
      "   ('leader', 0.1742857142857143),\n",
      "   ('politician', 0.054285714285714284),\n",
      "   ('popularly', 0.04),\n",
      "   ('lord', 0.022857142857142857),\n",
      "   ('opposition', 0.014285714285714285),\n",
      "   ('chairman', 0.011428571428571429),\n",
      "   ('make', 0.011428571428571429),\n",
      "   ('international', 0.011428571428571429),\n",
      "   ('create', 0.008571428571428572)])]\n",
      "\n",
      "Coherence Score:  0.6526919091619757\n"
     ]
    }
   ],
   "source": [
    "pprint(ldamallet.show_topics(formatted=False))\n",
    "# Compute Coherence Score\n",
    "coherence_model_ldamallet = CoherenceModel(model=ldamallet, texts=data_lemmatized, dictionary=id2word, coherence='c_v')\n",
    "coherence_ldamallet = coherence_model_ldamallet.get_coherence()\n",
    "print('\\nCoherence Score: ', coherence_ldamallet)"
   ]
  },
  {
   "cell_type": "code",
   "execution_count": 16,
   "metadata": {},
   "outputs": [],
   "source": [
    "#Computing coherence scores based on number of topics.\n",
    "def compute_coherence_values(dictionary, corpus, texts, limit, start=2, step=3):\n",
    "    \"\"\"\n",
    "    Compute c_v coherence for various number of topics\n",
    "\n",
    "    Parameters:\n",
    "    ----------\n",
    "    dictionary : Gensim dictionary\n",
    "    corpus : Gensim corpus\n",
    "    texts : List of input texts\n",
    "    limit : Max num of topics\n",
    "\n",
    "    Returns:\n",
    "    -------\n",
    "    model_list : List of LDA topic models\n",
    "    coherence_values : Coherence values corresponding to the LDA model with respective number of topics\n",
    "    \"\"\"\n",
    "    coherence_values = []\n",
    "    model_list = []\n",
    "    for num_topics in range(start, limit, step):\n",
    "        model = gensim.models.wrappers.LdaMallet(mallet_path, corpus=corpus, num_topics=num_topics, id2word=id2word)\n",
    "        model_list.append(model)\n",
    "        coherencemodel = CoherenceModel(model=model, texts=texts, dictionary=dictionary, coherence='c_v')\n",
    "        coherence_values.append(coherencemodel.get_coherence())\n",
    "\n",
    "    return model_list, coherence_values"
   ]
  },
  {
   "cell_type": "code",
   "execution_count": 17,
   "metadata": {},
   "outputs": [],
   "source": [
    "model_list, coherence_values = compute_coherence_values(dictionary=id2word, corpus=corpus, texts=data_lemmatized, start=50, limit=180, step=10)"
   ]
  },
  {
   "cell_type": "code",
   "execution_count": 18,
   "metadata": {},
   "outputs": [
    {
     "data": {
      "image/png": "[encoded data removed]",
      "text/plain": [
       "<Figure size 432x288 with 1 Axes>"
      ]
     },
     "metadata": {
      "needs_background": "light"
     },
     "output_type": "display_data"
    }
   ],
   "source": [
    "# Show graph\n",
    "limit=180; start=50; step=10;\n",
    "x = range(start, limit, step)\n",
    "plt.plot(x, coherence_values)\n",
    "plt.xlabel(\"Num Topics\")\n",
    "plt.ylabel(\"Coherence score\")\n",
    "plt.legend((\"coherence_values\"), loc='best')\n",
    "plt.show()"
   ]
  },
  {
   "cell_type": "code",
   "execution_count": 19,
   "metadata": {},
   "outputs": [
    {
     "name": "stdout",
     "output_type": "stream",
     "text": [
      "Num Topics = 50  has Coherence Value of 0.7079\n",
      "Num Topics = 60  has Coherence Value of 0.7141\n",
      "Num Topics = 70  has Coherence Value of 0.7167\n",
      "Num Topics = 80  has Coherence Value of 0.722\n",
      "Num Topics = 90  has Coherence Value of 0.7257\n",
      "Num Topics = 100  has Coherence Value of 0.7266\n",
      "Num Topics = 110  has Coherence Value of 0.7238\n",
      "Num Topics = 120  has Coherence Value of 0.7283\n",
      "Num Topics = 130  has Coherence Value of 0.7149\n",
      "Num Topics = 140  has Coherence Value of 0.7212\n",
      "Num Topics = 150  has Coherence Value of 0.7219\n",
      "Num Topics = 160  has Coherence Value of 0.7143\n",
      "Num Topics = 170  has Coherence Value of 0.7138\n"
     ]
    }
   ],
   "source": [
    "for m, cv in zip(x, coherence_values):\n",
    "    print(\"Num Topics =\", m, \" has Coherence Value of\", round(cv, 4))"
   ]
  },
  {
   "cell_type": "code",
   "execution_count": 20,
   "metadata": {},
   "outputs": [
    {
     "name": "stdout",
     "output_type": "stream",
     "text": [
      "[(101,\n",
      "  '0.310*\"september\" + 0.050*\"newspaper\" + 0.040*\"gilbert\" + 0.030*\"finnish\" + '\n",
      "  '0.030*\"ugandan\" + 0.030*\"la\" + 0.020*\"liberal\" + 0.020*\"st\" + '\n",
      "  '0.020*\"pronunciation\" + 0.020*\"tory\"'),\n",
      " (149,\n",
      "  '0.271*\"politician\" + 0.188*\"august\" + 0.047*\"thai\" + 0.024*\"osbaldeston\" + '\n",
      "  '0.024*\"mitchell\" + 0.024*\"silkin\" + 0.024*\"ross\" + 0.012*\"master\" + '\n",
      "  '0.012*\"jaggesh\" + 0.012*\"rowland\"'),\n",
      " (105,\n",
      "  '0.180*\"retire\" + 0.131*\"professional\" + 0.057*\"japanese\" + 0.049*\"wrestler\" '\n",
      "  '+ 0.041*\"wrestling\" + 0.033*\"inoki\" + 0.033*\"art\" + 0.025*\"martial\" + '\n",
      "  '0.025*\"trade\" + 0.016*\"murakawa\"'),\n",
      " (182,\n",
      "  '0.161*\"author\" + 0.046*\"radio\" + 0.046*\"december\" + 0.046*\"owner\" + '\n",
      "  '0.034*\"public\" + 0.034*\"comedian\" + 0.023*\"north\" + 0.023*\"marquez\" + '\n",
      "  '0.023*\"april\" + 0.023*\"professional\"'),\n",
      " (121,\n",
      "  '0.156*\"elect\" + 0.156*\"election\" + 0.078*\"general\" + 0.055*\"federal\" + '\n",
      "  '0.055*\"commons\" + 0.047*\"represent\" + 0.047*\"electoral_district\" + '\n",
      "  '0.031*\"dil\" + 0.023*\"agricultural\" + 0.023*\"politic\"'),\n",
      " (155,\n",
      "  '0.459*\"british\" + 0.102*\"army_officer\" + 0.041*\"columbia\" + 0.031*\"jersey\" '\n",
      "  '+ 0.020*\"marilyn\" + 0.010*\"molyneux\" + 0.010*\"bumper\" + 0.010*\"vara\" + '\n",
      "  '0.010*\"brookes\" + 0.010*\"sport\"'),\n",
      " (34,\n",
      "  '0.412*\"politician\" + 0.082*\"july\" + 0.035*\"scholar\" + 0.024*\"disraeli\" + '\n",
      "  '0.024*\"parson\" + 0.024*\"republic\" + 0.024*\"richard\" + 0.024*\"manitoba\" + '\n",
      "  '0.012*\"royals\" + 0.012*\"smertn\"'),\n",
      " (100,\n",
      "  '0.236*\"new_zealand\" + 0.164*\"player\" + 0.145*\"rugby_union\" + 0.103*\"rugby\" '\n",
      "  '+ 0.103*\"international\" + 0.030*\"footballer\" + 0.024*\"wakefield\" + '\n",
      "  '0.024*\"day\" + 0.018*\"arthur\" + 0.012*\"harrington\"'),\n",
      " (77,\n",
      "  '0.558*\"politician\" + 0.035*\"james\" + 0.027*\"prime_minister\" + '\n",
      "  '0.027*\"canada\" + 0.018*\"august\" + 0.018*\"racing\" + 0.009*\"detroit\" + '\n",
      "  '0.009*\"stunt\" + 0.009*\"television_personality\" + 0.009*\"vasilyevna\"'),\n",
      " (83,\n",
      "  '0.300*\"cricketer\" + 0.143*\"english\" + 0.129*\"play\" + 0.086*\"first_class\" + '\n",
      "  '0.081*\"cricket\" + 0.029*\"test\" + 0.029*\"match\" + 0.019*\"teacher\" + '\n",
      "  '0.014*\"great\" + 0.010*\"brazilian\"'),\n",
      " (32,\n",
      "  '0.078*\"long\" + 0.039*\"january\" + 0.039*\"pronunciation\" + 0.026*\"mithun\" + '\n",
      "  '0.026*\"morton\" + 0.026*\"level\" + 0.026*\"lyttelton\" + '\n",
      "  '0.026*\"playback_singer\" + 0.026*\"victor\" + 0.013*\"theatre\"'),\n",
      " (143,\n",
      "  '0.217*\"indian\" + 0.180*\"kerala\" + 0.106*\"india\" + 0.101*\"leader\" + '\n",
      "  '0.060*\"communist\" + 0.041*\"congress\" + 0.037*\"president\" + '\n",
      "  '0.032*\"national_congress\" + 0.023*\"committee\" + 0.018*\"marxist\"'),\n",
      " (1,\n",
      "  '0.173*\"lord\" + 0.153*\"st\" + 0.112*\"earl\" + 0.080*\"viscount\" + '\n",
      "  '0.060*\"robert\" + 0.052*\"statesman\" + 0.052*\"style\" + 0.036*\"marquess\" + '\n",
      "  '0.036*\"time\" + 0.032*\"cecil\"'),\n",
      " (5,\n",
      "  '0.163*\"actress\" + 0.082*\"college\" + 0.051*\"american\" + 0.041*\"era\" + '\n",
      "  '0.031*\"real\" + 0.031*\"whig\" + 0.020*\"wife\" + 0.020*\"william\" + 0.020*\"tory\" '\n",
      "  '+ 0.020*\"jones\"'),\n",
      " (147,\n",
      "  '0.288*\"canadian\" + 0.178*\"february\" + 0.051*\"provincial\" + 0.025*\"cabinet\" '\n",
      "  '+ 0.025*\"irwin\" + 0.017*\"harold\" + 0.017*\"cbe\" + 0.017*\"arthur\" + '\n",
      "  '0.017*\"alexandrovich\" + 0.008*\"pacman\"'),\n",
      " (99,\n",
      "  '0.255*\"scottish\" + 0.170*\"douglas\" + 0.064*\"sport\" + 0.032*\"filipino\" + '\n",
      "  '0.021*\"bannerman\" + 0.021*\"philip\" + 0.011*\"fraser\" + 0.011*\"friend\" + '\n",
      "  '0.011*\"gopala\" + 0.011*\"nineteenth\"'),\n",
      " (133,\n",
      "  '0.255*\"february\" + 0.071*\"christopher\" + 0.061*\"frank\" + 0.051*\"english\" + '\n",
      "  '0.041*\"july\" + 0.041*\"hurler\" + 0.031*\"wood\" + 0.031*\"law\" + 0.020*\"bhabhi\" '\n",
      "  '+ 0.020*\"plantation\"'),\n",
      " (33,\n",
      "  '0.479*\"bear\" + 0.041*\"school\" + 0.025*\"queensland\" + 0.017*\"miracle\" + '\n",
      "  '0.017*\"justin\" + 0.017*\"widely\" + 0.017*\"political\" + 0.008*\"coughlan\" + '\n",
      "  '0.008*\"koukodimos\" + 0.008*\"league\"'),\n",
      " (187,\n",
      "  '0.359*\"politician\" + 0.054*\"hold\" + 0.033*\"liberal\" + 0.022*\"august\" + '\n",
      "  '0.022*\"edwards\" + 0.022*\"lawyer\" + 0.022*\"hennessy\" + 0.022*\"akama\" + '\n",
      "  '0.022*\"elena\" + 0.011*\"offaly\"'),\n",
      " (160,\n",
      "  '0.316*\"january\" + 0.061*\"jack\" + 0.031*\"higgins\" + 0.020*\"keith\" + '\n",
      "  '0.020*\"winston\" + 0.020*\"idol\" + 0.020*\"la\" + 0.020*\"holmes\" + '\n",
      "  '0.020*\"quebec\" + 0.020*\"assassination\"')]\n"
     ]
    }
   ],
   "source": [
    "# Select the model and print the topics\n",
    "optimal_model = model_list[9]\n",
    "model_topics = optimal_model.show_topics(formatted=False)\n",
    "pprint(optimal_model.print_topics(num_words=10))"
   ]
  }
 ],
 "metadata": {
  "kernelspec": {
   "display_name": "Python 3",
   "language": "python",
   "name": "python3"
  },
  "language_info": {
   "codemirror_mode": {
    "name": "ipython",
    "version": 3
   },
   "file_extension": ".py",
   "mimetype": "text/x-python",
   "name": "python",
   "nbconvert_exporter": "python",
   "pygments_lexer": "ipython3",
   "version": "3.7.4"
  }
 },
 "nbformat": 4,
 "nbformat_minor": 2
}
